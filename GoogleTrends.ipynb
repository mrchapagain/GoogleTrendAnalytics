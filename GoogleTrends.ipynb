{
  "cells": [
    {
      "cell_type": "markdown",
      "metadata": {
        "id": "0u3siz6q30ot"
      },
      "source": [
        "# Google Trends analytics using Python\n",
        "- Here we will be analyzing the Google search trends on the queries of our intered {You will get a chance to provide input}."
      ]
    },
    {
      "cell_type": "code",
      "source": [
        "#!pip install pytrends"
      ],
      "metadata": {
        "id": "Kge3oZOwaJFG"
      },
      "execution_count": null,
      "outputs": []
    },
    {
      "cell_type": "markdown",
      "source": [
        "***Start with importing libraries.***\n",
        "---\n",
        "*Probably need to run \"pip install pytrends\"*"
      ],
      "metadata": {
        "id": "95RvRvdMCAly"
      }
    },
    {
      "cell_type": "code",
      "execution_count": 4,
      "metadata": {
        "id": "qAI3W-x730o4"
      },
      "outputs": [],
      "source": [
        "# import necessary libaries\n",
        "import pandas as pd\n",
        "import numpy as np\n",
        "\n",
        "from pytrends.request import TrendReq\n",
        "\n",
        "import matplotlib.pyplot as plt\n",
        "import seaborn as sns\n",
        "from seaborn import load_dataset\n",
        "\n",
        "import warnings\n",
        "warnings.filterwarnings(\"ignore\")"
      ]
    },
    {
      "cell_type": "markdown",
      "metadata": {
        "id": "kyzK5DjB30o8"
      },
      "source": [
        "# Connect to Google\n",
        "- The first step after installation is to connect Pytrends to Google Trends so that WE can send a request and get the information WE need.\n",
        "---\n",
        "The TrendReq receives two important parameters; hl & tz.\n",
        "\n",
        "hl stands for hosting language for accessing Google Trends; in this example, we set English.\n",
        "\n",
        "tz stands for timezone"
      ]
    },
    {
      "cell_type": "code",
      "source": [
        "#write function to google trends\n",
        "def google_trend():\n",
        "  # Configuring connection\n",
        "  trends = TrendReq(hl='en-US', tz= 360, timeout=(10,25))\n",
        "  return trends"
      ],
      "metadata": {
        "id": "gx0ITyCkhPnO"
      },
      "execution_count": 26,
      "outputs": []
    },
    {
      "cell_type": "markdown",
      "metadata": {
        "id": "kwFL8VTa30o_"
      },
      "source": [
        "# Build Payload\n",
        "> The build_payload method from Pytrends is used to build a list of keywords that want to search in Google Trends. Can also specify the timeframe to gather data and the category to query the data from.\n",
        "---\n",
        "*kw_list:* list of the target search terms \n",
        "\n",
        "*cat:* Category to narrow result fx. Art, Entertainment\n",
        "\n",
        "*timeframe:* Date to start from fx. Defaults to last 5yrs is 'today 5-y' or Everything is 'all'\n",
        "\n",
        "*geo:* Location of interest represent by two letter country abbreviation fx. United States is 'US' or Defaults to World\n",
        "\n",
        "*gprop:* What Google property to filter to fx. \"image\" or \"news\" default to web searches"
      ]
    },
    {
      "cell_type": "code",
      "execution_count": 27,
      "metadata": {
        "id": "TWy98vlf30pA",
        "outputId": "5b325ce4-114f-48ee-805c-5e11156d9e4f",
        "colab": {
          "base_uri": "https://localhost:8080/"
        }
      },
      "outputs": [
        {
          "output_type": "execute_result",
          "data": {
            "text/plain": [
              "<pytrends.request.TrendReq at 0x7f60022c0f50>"
            ]
          },
          "metadata": {},
          "execution_count": 27
        }
      ],
      "source": [
        "# Build the playload\n",
        "def google_trend_playload():\n",
        "  kw_list = [\"Healthy diet\"]  # list of keywords to get data \n",
        "  input= f'you have entered {kw_list}'\n",
        "  #playload\n",
        "  trends= google_trend()\n",
        "  trends.build_payload(kw_list, cat=0, timeframe='today 5-y', geo= 'NP', gprop='') \n",
        "  \n",
        "  # lets check if we got the data from google or not?\n",
        "  return trends\n",
        "\n",
        "google_trend_playload()"
      ]
    },
    {
      "cell_type": "markdown",
      "metadata": {
        "id": "WRian8L030pH"
      },
      "source": [
        "# What kind of data want to pull? possible methods are:\n",
        "- Interest Over Time: returns historical, indexed data for when the keyword was searched\n",
        "- Historical Hourly Interest:  returns historical, indexed, hourly data for when the keyword was searched\n",
        "- Interest by Region: returns data for where the keyword is most searched\n",
        "- Related Topics: returns data for the related keywords to a provided keyword\n",
        "- Related Queries: returns data for the related keywords to a provided keyword\n",
        "- Trending Searches: returns data for latest trending searches\n",
        "- Top Charts: returns the data for a given topic\n",
        "- Suggestions: returns a list of additional suggested keywords that can be used to refine a trend search."
      ]
    },
    {
      "cell_type": "code",
      "execution_count": null,
      "metadata": {
        "id": "_qcnNQzK30pM"
      },
      "outputs": [],
      "source": [
        "# Function to Disply in the figure\n",
        "def displayfig(x, y, title, x_label, y_label, fsize):\n",
        "    \"\"\" The function will take x & value including title, x_label & y_label, & figuresize then display the figure\"\"\"\n",
        "    plt.figure(figsize= fsize)\n",
        "    plt.plot(x,y)\n",
        "    plt.title(title)\n",
        "    plt.xlabel(x_label)\n",
        "    plt.ylabel(y_label)\n",
        "    plt.show()"
      ]
    },
    {
      "cell_type": "markdown",
      "source": [
        "***Interest Over Time***"
      ],
      "metadata": {
        "id": "JAIUwoPBQ4Df"
      }
    },
    {
      "cell_type": "code",
      "execution_count": null,
      "metadata": {
        "id": "dEk6nNfi30pP"
      },
      "outputs": [],
      "source": [
        "# Interest Over Time\n",
        "data_over_time= trends.interest_over_time().drop(columns='isPartial')\n",
        "data_over_time = data_over_time.reset_index()\n",
        "print(data_over_time.tail())\n",
        "\n",
        "# Disply in the figure\n",
        "displayfig(x=data_over_time[\"date\"], y=data_over_time.iloc[:, 1], title= \"Keyword Web Search of {kw_list} Interest Over Time\".format(kw_list=kw_list), x_label= \"date\", y_label=\"Trends over time\", fsize= (14, 7))"
      ]
    },
    {
      "cell_type": "markdown",
      "source": [
        "**Historical Hourly Interest**"
      ],
      "metadata": {
        "id": "2goieW1FqPZC"
      }
    },
    {
      "cell_type": "code",
      "execution_count": null,
      "metadata": {
        "id": "JUYxSK3P30pS"
      },
      "outputs": [],
      "source": [
        "# Historical Hourly Interest (The hourly interest of the keyword)\n",
        "hourly_trends= trends.get_historical_interest(kw_list, year_start=2022, month_start=3, day_start=1, hour_start=0, year_end=2022, month_end=7, day_end=5, hour_end=0)\n",
        "hourly_trends = hourly_trends.reset_index()\n",
        "\n",
        "# Disply in the figure\n",
        "plt.figure(figsize= (14, 7))\n",
        "plt.plot(hourly_trends[\"date\"], hourly_trends.iloc[:, 1])\n",
        "plt.title(\"Hourly search trends of {kw_list}\".format(kw_list=kw_list))\n",
        "plt.xlabel(\"date\")\n",
        "plt.ylabel(\"Hourly trends rate\")\n",
        "plt.show()"
      ]
    },
    {
      "cell_type": "markdown",
      "source": [
        "**Interest by Region(Search by geographical region)**\n",
        "\n",
        "To show you which countries search the keyword on a scale of 0 to 100, where 100 represents a country with the most search\n",
        "\n",
        "*The resolution value is dependent on the geo parameter of the common configuration:*\n",
        "\n",
        "*Use resolution='COUNTRY' for geo='World'*\n",
        "\n",
        "*Use resolution='REGION' for geo='US', for example*"
      ],
      "metadata": {
        "id": "hbp1Hmg9qTAk"
      }
    },
    {
      "cell_type": "code",
      "execution_count": null,
      "metadata": {
        "scrolled": true,
        "id": "VhY2qzx230pT"
      },
      "outputs": [],
      "source": [
        "# resolution can be either CITY, COUNTRY or REGION\n",
        "trends_by_region= trends.interest_by_region(resolution='', inc_low_vol=True, inc_geo_code=False)\n",
        "trends_by_region = trends_by_region.sort_values(by=kw_list, ascending=False)\n",
        "print(trends_by_region.head(10))\n"
      ]
    },
    {
      "cell_type": "markdown",
      "source": [
        "**Related Queries**"
      ],
      "metadata": {
        "id": "VFFmlROvqWgJ"
      }
    },
    {
      "cell_type": "code",
      "execution_count": null,
      "metadata": {
        "id": "_bdVJzFN30pU"
      },
      "outputs": [],
      "source": [
        "# Related Queries (keywords that are closely tied to a primary keyword of the choice)\n",
        "related_queries= trends.related_queries()\n",
        "related_queries[kw_list[0]]['top']"
      ]
    },
    {
      "cell_type": "markdown",
      "source": [
        "**Trending topics of the year**"
      ],
      "metadata": {
        "id": "LGn1ar-oqaCy"
      }
    },
    {
      "cell_type": "code",
      "execution_count": null,
      "metadata": {
        "id": "3TNNMYIw30pV"
      },
      "outputs": [],
      "source": [
        "# Trending topics of the year\n",
        "df= pd.DataFrame()\n",
        "\n",
        "for year in range(2004, 2022):\n",
        "    trending = trends.top_charts(year, hl= \"en-US\", geo= \"GLOBAL\")\n",
        "    df[year]= trending.title\n",
        "    \n",
        "df.iloc[:, :9].head(5)"
      ]
    },
    {
      "cell_type": "code",
      "source": [
        "df.iloc[:, 9:].head(5)"
      ],
      "metadata": {
        "id": "C9XNFk7OdEWH"
      },
      "execution_count": null,
      "outputs": []
    },
    {
      "cell_type": "markdown",
      "source": [
        "***Daily trends***\n",
        "---\n",
        "*Daily Search Trends highlights searchers that jumped significantly in traffic among all searches over the past 24 hours and update hourly.*\n",
        "---\n",
        "*These trends highlight specific queries that were searched, and an absolute number of searches made*\n"
      ],
      "metadata": {
        "id": "pop-SR4lJV3y"
      }
    },
    {
      "cell_type": "code",
      "execution_count": null,
      "metadata": {
        "id": "ojPlZFKd30pW"
      },
      "outputs": [],
      "source": [
        "# Get today´s trending topics\n",
        "trendingtoday = trends.today_searches(pn='DK')\n",
        "trendingtoday.head()\n",
        "  "
      ]
    },
    {
      "cell_type": "markdown",
      "source": [
        "**Realtime Trends Searches in a Specific Country**\n",
        "---\n",
        "*It highlight stories that are trending across Google surfaces within the last 24 hours and are updated in real-time*\n",
        "\n",
        "The \"pn\" argument specifies the geographical location, the US in our example."
      ],
      "metadata": {
        "id": "DZQ4qK4yScqp"
      }
    },
    {
      "cell_type": "code",
      "execution_count": null,
      "metadata": {
        "id": "5BKOe2bn30pX"
      },
      "outputs": [],
      "source": [
        "# Get realtime Google Trends data\n",
        "trends_realtime= trends.trending_searches(pn='denmark')\n",
        "trends_realtime.head(10)\n",
        "\n",
        "#df = trends.realtime_trending_searches(pn='denmark')\n",
        "#df.head(10)"
      ]
    },
    {
      "cell_type": "code",
      "execution_count": null,
      "metadata": {
        "id": "dOhCKhi030pY"
      },
      "outputs": [],
      "source": []
    },
    {
      "cell_type": "code",
      "execution_count": null,
      "metadata": {
        "id": "iaq9lxJB30pY"
      },
      "outputs": [],
      "source": []
    },
    {
      "cell_type": "code",
      "execution_count": null,
      "metadata": {
        "id": "500ZFv9n30pZ"
      },
      "outputs": [],
      "source": []
    },
    {
      "cell_type": "code",
      "execution_count": null,
      "metadata": {
        "id": "W6WmctZk30pZ"
      },
      "outputs": [],
      "source": []
    }
  ],
  "metadata": {
    "kernelspec": {
      "display_name": "Python 3",
      "language": "python",
      "name": "python3"
    },
    "language_info": {
      "codemirror_mode": {
        "name": "ipython",
        "version": 3
      },
      "file_extension": ".py",
      "mimetype": "text/x-python",
      "name": "python",
      "nbconvert_exporter": "python",
      "pygments_lexer": "ipython3",
      "version": "3.8.3"
    },
    "colab": {
      "name": "GoogleTrends.ipynb",
      "provenance": []
    }
  },
  "nbformat": 4,
  "nbformat_minor": 0
}