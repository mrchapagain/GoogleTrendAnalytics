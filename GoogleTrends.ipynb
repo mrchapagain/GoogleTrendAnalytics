{
  "cells": [
    {
      "cell_type": "markdown",
      "metadata": {
        "id": "0u3siz6q30ot"
      },
      "source": [
        "# Google Trends analytics using Python\n",
        "- Here we will be analyzing the Google search trends on the queries of our intered {You will get a chance to provide input}."
      ]
    },
    {
      "cell_type": "code",
      "source": [
        "#!pip install pytrends"
      ],
      "metadata": {
        "id": "Kge3oZOwaJFG"
      },
      "execution_count": 6,
      "outputs": []
    },
    {
      "cell_type": "markdown",
      "source": [
        "***Start with importing libraries.***\n",
        "---\n",
        "*Probably need to run \"pip install pytrends\"*"
      ],
      "metadata": {
        "id": "95RvRvdMCAly"
      }
    },
    {
      "cell_type": "code",
      "execution_count": 7,
      "metadata": {
        "id": "qAI3W-x730o4"
      },
      "outputs": [],
      "source": [
        "# import necessary libaries\n",
        "import pandas as pd\n",
        "import numpy as np\n",
        "\n",
        "from pytrends.request import TrendReq\n",
        "\n",
        "import matplotlib.pyplot as plt\n",
        "import seaborn as sns\n",
        "from seaborn import load_dataset\n",
        "\n",
        "import warnings\n",
        "warnings.filterwarnings(\"ignore\")"
      ]
    },
    {
      "cell_type": "markdown",
      "metadata": {
        "id": "kyzK5DjB30o8"
      },
      "source": [
        "# Connect to Google\n",
        "- The first step after installation is to connect Pytrends to Google Trends so that WE can send a request and get the information WE need.\n",
        "---\n",
        "The TrendReq receives two important parameters; hl & tz.\n",
        "\n",
        "hl stands for hosting language for accessing Google Trends; in this example, we set English.\n",
        "\n",
        "tz stands for timezone"
      ]
    },
    {
      "cell_type": "code",
      "execution_count": 8,
      "metadata": {
        "id": "FZ993mWJ30o9",
        "outputId": "a6d23943-84f9-40f7-da9a-7eb7e06263e0",
        "colab": {
          "base_uri": "https://localhost:8080/"
        }
      },
      "outputs": [
        {
          "output_type": "execute_result",
          "data": {
            "text/plain": [
              "<pytrends.request.TrendReq at 0x7f67bc216410>"
            ]
          },
          "metadata": {},
          "execution_count": 8
        }
      ],
      "source": [
        "# Configuring connection\n",
        "trends = TrendReq(hl='en-US', tz= 360, timeout=(10,25))\n",
        "\"\"\"Lets see what we can get with trends object\"\"\"\n",
        "trends"
      ]
    },
    {
      "cell_type": "markdown",
      "metadata": {
        "id": "kwFL8VTa30o_"
      },
      "source": [
        "# Build Payload\n",
        "> The build_payload method from Pytrends is used to build a list of keywords that want to search in Google Trends. Can also specify the timeframe to gather data and the category to query the data from.\n",
        "---\n",
        "*kw_list:* list of the target search terms \n",
        "\n",
        "*cat:* Category to narrow result fx. Art, Entertainment\n",
        "\n",
        "*timeframe:* Date to start from fx. Defaults to last 5yrs is 'today 5-y' or Everything is 'all'\n",
        "\n",
        "*geo:* Location of interest represent by two letter country abbreviation fx. United States is 'US' or Defaults to World\n",
        "\n",
        "*gprop:* What Google property to filter to fx. \"image\" or \"news\" default to web searches"
      ]
    },
    {
      "cell_type": "code",
      "execution_count": 9,
      "metadata": {
        "id": "TWy98vlf30pA",
        "outputId": "dbf1532e-da78-4d76-cb62-64a428a97061",
        "colab": {
          "base_uri": "https://localhost:8080/"
        }
      },
      "outputs": [
        {
          "output_type": "stream",
          "name": "stdout",
          "text": [
            "Enter the word that wanna see in Google Trends. >> Healthy diet\n",
            "you have entered ['Healthy diet']\n",
            "Trends object is ready to explore as -> <pytrends.request.TrendReq object at 0x7f67bc216410>\n"
          ]
        }
      ],
      "source": [
        "kw_list = [input(\"Enter the word that wanna see in Google Trends. >> \")]  # list of keywords to get data \n",
        "print(f'you have entered {kw_list}')\n",
        "\n",
        "# Build playload\n",
        "trends.build_payload(kw_list, cat=0, timeframe='today 5-y', geo= 'NP', gprop='') \n",
        "\n",
        "# lets check if we got the data from google or not?\n",
        "print(f'Trends object is ready to explore as -> {trends}')"
      ]
    },
    {
      "cell_type": "markdown",
      "metadata": {
        "id": "WRian8L030pH"
      },
      "source": [
        "# What kind of data want to pull? possible methods are:\n",
        "- Interest Over Time: returns historical, indexed data for when the keyword was searched\n",
        "- Historical Hourly Interest:  returns historical, indexed, hourly data for when the keyword was searched\n",
        "- Interest by Region: returns data for where the keyword is most searched\n",
        "- Related Topics: returns data for the related keywords to a provided keyword\n",
        "- Related Queries: returns data for the related keywords to a provided keyword\n",
        "- Trending Searches: returns data for latest trending searches\n",
        "- Top Charts: returns the data for a given topic\n",
        "- Suggestions: returns a list of additional suggested keywords that can be used to refine a trend search."
      ]
    },
    {
      "cell_type": "code",
      "execution_count": 10,
      "metadata": {
        "id": "_qcnNQzK30pM"
      },
      "outputs": [],
      "source": [
        "# Function to Disply in the figure\n",
        "def displayfig(x, y, title, x_label, y_label, fsize):\n",
        "    \"\"\" The function will take x & value including title, x_label & y_label, & figuresize then display the figure\"\"\"\n",
        "    plt.figure(figsize= fsize)\n",
        "    plt.plot(x,y)\n",
        "    plt.title(title)\n",
        "    plt.xlabel(x_label)\n",
        "    plt.ylabel(y_label)\n",
        "    plt.show()"
      ]
    },
    {
      "cell_type": "markdown",
      "source": [
        "***Interest Over Time***"
      ],
      "metadata": {
        "id": "JAIUwoPBQ4Df"
      }
    },
    {
      "cell_type": "code",
      "execution_count": 11,
      "metadata": {
        "id": "dEk6nNfi30pP",
        "outputId": "a9fc9082-6812-414b-d872-91d17c2d9345",
        "colab": {
          "base_uri": "https://localhost:8080/",
          "height": 562
        }
      },
      "outputs": [
        {
          "output_type": "stream",
          "name": "stdout",
          "text": [
            "          date  Healthy diet\n",
            "255 2022-06-26            23\n",
            "256 2022-07-03            12\n",
            "257 2022-07-10             6\n",
            "258 2022-07-17             6\n",
            "259 2022-07-24             5\n"
          ]
        },
        {
          "output_type": "display_data",
          "data": {
            "text/plain": [
              "<Figure size 1008x504 with 1 Axes>"
            ],
            "image/png": "[encoded data removed]"
          },
          "metadata": {
            "needs_background": "light"
          }
        }
      ],
      "source": [
        "# Interest Over Time\n",
        "data_over_time= trends.interest_over_time().drop(columns='isPartial')\n",
        "data_over_time = data_over_time.reset_index()\n",
        "print(data_over_time.tail())\n",
        "\n",
        "# Disply in the figure\n",
        "displayfig(x=data_over_time[\"date\"], y=data_over_time.iloc[:, 1], title= \"Keyword Web Search of {kw_list} Interest Over Time\".format(kw_list=kw_list), x_label= \"date\", y_label=\"Trends over time\", fsize= (14, 7))"
      ]
    },
    {
      "cell_type": "markdown",
      "source": [
        "**Historical Hourly Interest**"
      ],
      "metadata": {
        "id": "2goieW1FqPZC"
      }
    },
    {
      "cell_type": "code",
      "execution_count": 12,
      "metadata": {
        "id": "JUYxSK3P30pS",
        "outputId": "355cd05c-dda8-46ea-e128-8665b1d7519d",
        "colab": {
          "base_uri": "https://localhost:8080/",
          "height": 458
        }
      },
      "outputs": [
        {
          "output_type": "display_data",
          "data": {
            "text/plain": [
              "<Figure size 1008x504 with 1 Axes>"
            ],
            "image/png": "[encoded data removed]"
          },
          "metadata": {
            "needs_background": "light"
          }
        }
      ],
      "source": [
        "# Historical Hourly Interest (The hourly interest of the keyword)\n",
        "hourly_trends= trends.get_historical_interest(kw_list, year_start=2022, month_start=3, day_start=1, hour_start=0, year_end=2022, month_end=7, day_end=5, hour_end=0)\n",
        "hourly_trends = hourly_trends.reset_index()\n",
        "\n",
        "# Disply in the figure\n",
        "plt.figure(figsize= (14, 7))\n",
        "plt.plot(hourly_trends[\"date\"], hourly_trends.iloc[:, 1])\n",
        "plt.title(\"Hourly search trends of {kw_list}\".format(kw_list=kw_list))\n",
        "plt.xlabel(\"date\")\n",
        "plt.ylabel(\"Hourly trends rate\")\n",
        "plt.show()"
      ]
    },
    {
      "cell_type": "markdown",
      "source": [
        "**Interest by Region(Search by geographical region)**\n",
        "\n",
        "To show you which countries search the keyword on a scale of 0 to 100, where 100 represents a country with the most search\n",
        "\n",
        "*The resolution value is dependent on the geo parameter of the common configuration:*\n",
        "\n",
        "*Use resolution='COUNTRY' for geo='World'*\n",
        "\n",
        "*Use resolution='REGION' for geo='US', for example*"
      ],
      "metadata": {
        "id": "hbp1Hmg9qTAk"
      }
    },
    {
      "cell_type": "code",
      "execution_count": 13,
      "metadata": {
        "scrolled": true,
        "id": "VhY2qzx230pT",
        "outputId": "754e2cf3-c75b-496a-fef0-7735a363ab94",
        "colab": {
          "base_uri": "https://localhost:8080/"
        }
      },
      "outputs": [
        {
          "output_type": "stream",
          "name": "stdout",
          "text": [
            "                    Healthy diet\n",
            "geoName                         \n",
            "Central Region               100\n",
            "Eastern Region                 0\n",
            "Far-Western Region             0\n",
            "Mid-Western Region             0\n",
            "Western Region                 0\n"
          ]
        }
      ],
      "source": [
        "# resolution can be either CITY, COUNTRY or REGION\n",
        "trends_by_region= trends.interest_by_region(resolution='', inc_low_vol=True, inc_geo_code=False)\n",
        "trends_by_region = trends_by_region.sort_values(by=kw_list, ascending=False)\n",
        "print(trends_by_region.head(10))\n"
      ]
    },
    {
      "cell_type": "markdown",
      "source": [
        "**Related Queries**"
      ],
      "metadata": {
        "id": "VFFmlROvqWgJ"
      }
    },
    {
      "cell_type": "code",
      "execution_count": 14,
      "metadata": {
        "id": "_bdVJzFN30pU"
      },
      "outputs": [],
      "source": [
        "# Related Queries (keywords that are closely tied to a primary keyword of the choice)\n",
        "related_queries= trends.related_queries()\n",
        "related_queries[kw_list[0]]['top']"
      ]
    },
    {
      "cell_type": "markdown",
      "source": [
        "**Trending topics of the year**"
      ],
      "metadata": {
        "id": "LGn1ar-oqaCy"
      }
    },
    {
      "cell_type": "code",
      "execution_count": 27,
      "metadata": {
        "id": "3TNNMYIw30pV",
        "outputId": "6f55af35-ae51-4238-fa40-40f00662e10d",
        "colab": {
          "base_uri": "https://localhost:8080/",
          "height": 206
        }
      },
      "outputs": [
        {
          "output_type": "execute_result",
          "data": {
            "text/plain": [
              "             2004                  2005             2006  \\\n",
              "0         Ferrari                  iPod   Aaron Spelling   \n",
              "1             BMW        Digital Camera    Kirby Puckett   \n",
              "2     Lamborghini            MP3 Player        Jack Wild   \n",
              "3  Nissan Skyline             iPod Mini  Clifford Geertz   \n",
              "4         Porsche  PlayStation Portable     Muriel Spark   \n",
              "\n",
              "                     2007               2008              2009        2010  \\\n",
              "0           American Idol    Joe The Plumber   Michael Jackson        iPad   \n",
              "1                 YouTube    Jeremiah Wright      Transformers    iPhone 4   \n",
              "2          Britney Spears           Maverick            Eminem  Nokia 5530   \n",
              "3  2007 Cricket World Cup      William Ayers  Naruto Shippuden  HTC EVO 4g   \n",
              "4            Chris Benoit  Bridge To Nowhere           Beyoncé  Nokia N900   \n",
              "\n",
              "                 2011                2012  \n",
              "0  Amazon Kindle Fire  Southwest Airlines  \n",
              "1           iPhone 4s     United Airlines  \n",
              "2         Sidekick 4g   American Airlines  \n",
              "3         Hp Touchpad      Delta Airlines  \n",
              "4        Spb Shell 3d          Air France  "
            ],
            "text/html": [
              "\n",
              "  <div id=\"df-dc83f910-6444-4741-bf10-9c8c5969692a\">\n",
              "    <div class=\"colab-df-container\">\n",
              "      <div>\n",
              "<style scoped>\n",
              "    .dataframe tbody tr th:only-of-type {\n",
              "        vertical-align: middle;\n",
              "    }\n",
              "\n",
              "    .dataframe tbody tr th {\n",
              "        vertical-align: top;\n",
              "    }\n",
              "\n",
              "    .dataframe thead th {\n",
              "        text-align: right;\n",
              "    }\n",
              "</style>\n",
              "<table border=\"1\" class=\"dataframe\">\n",
              "  <thead>\n",
              "    <tr style=\"text-align: right;\">\n",
              "      <th></th>\n",
              "      <th>2004</th>\n",
              "      <th>2005</th>\n",
              "      <th>2006</th>\n",
              "      <th>2007</th>\n",
              "      <th>2008</th>\n",
              "      <th>2009</th>\n",
              "      <th>2010</th>\n",
              "      <th>2011</th>\n",
              "      <th>2012</th>\n",
              "    </tr>\n",
              "  </thead>\n",
              "  <tbody>\n",
              "    <tr>\n",
              "      <th>0</th>\n",
              "      <td>Ferrari</td>\n",
              "      <td>iPod</td>\n",
              "      <td>Aaron Spelling</td>\n",
              "      <td>American Idol</td>\n",
              "      <td>Joe The Plumber</td>\n",
              "      <td>Michael Jackson</td>\n",
              "      <td>iPad</td>\n",
              "      <td>Amazon Kindle Fire</td>\n",
              "      <td>Southwest Airlines</td>\n",
              "    </tr>\n",
              "    <tr>\n",
              "      <th>1</th>\n",
              "      <td>BMW</td>\n",
              "      <td>Digital Camera</td>\n",
              "      <td>Kirby Puckett</td>\n",
              "      <td>YouTube</td>\n",
              "      <td>Jeremiah Wright</td>\n",
              "      <td>Transformers</td>\n",
              "      <td>iPhone 4</td>\n",
              "      <td>iPhone 4s</td>\n",
              "      <td>United Airlines</td>\n",
              "    </tr>\n",
              "    <tr>\n",
              "      <th>2</th>\n",
              "      <td>Lamborghini</td>\n",
              "      <td>MP3 Player</td>\n",
              "      <td>Jack Wild</td>\n",
              "      <td>Britney Spears</td>\n",
              "      <td>Maverick</td>\n",
              "      <td>Eminem</td>\n",
              "      <td>Nokia 5530</td>\n",
              "      <td>Sidekick 4g</td>\n",
              "      <td>American Airlines</td>\n",
              "    </tr>\n",
              "    <tr>\n",
              "      <th>3</th>\n",
              "      <td>Nissan Skyline</td>\n",
              "      <td>iPod Mini</td>\n",
              "      <td>Clifford Geertz</td>\n",
              "      <td>2007 Cricket World Cup</td>\n",
              "      <td>William Ayers</td>\n",
              "      <td>Naruto Shippuden</td>\n",
              "      <td>HTC EVO 4g</td>\n",
              "      <td>Hp Touchpad</td>\n",
              "      <td>Delta Airlines</td>\n",
              "    </tr>\n",
              "    <tr>\n",
              "      <th>4</th>\n",
              "      <td>Porsche</td>\n",
              "      <td>PlayStation Portable</td>\n",
              "      <td>Muriel Spark</td>\n",
              "      <td>Chris Benoit</td>\n",
              "      <td>Bridge To Nowhere</td>\n",
              "      <td>Beyoncé</td>\n",
              "      <td>Nokia N900</td>\n",
              "      <td>Spb Shell 3d</td>\n",
              "      <td>Air France</td>\n",
              "    </tr>\n",
              "  </tbody>\n",
              "</table>\n",
              "</div>\n",
              "      <button class=\"colab-df-convert\" onclick=\"convertToInteractive('df-dc83f910-6444-4741-bf10-9c8c5969692a')\"\n",
              "              title=\"Convert this dataframe to an interactive table.\"\n",
              "              style=\"display:none;\">\n",
              "        \n",
              "  <svg xmlns=\"http://www.w3.org/2000/svg\" height=\"24px\"viewBox=\"0 0 24 24\"\n",
              "       width=\"24px\">\n",
              "    <path d=\"M0 0h24v24H0V0z\" fill=\"none\"/>\n",
              "    <path d=\"M18.56 5.44l.94 2.06.94-2.06 2.06-.94-2.06-.94-.94-2.06-.94 2.06-2.06.94zm-11 1L8.5 8.5l.94-2.06 2.06-.94-2.06-.94L8.5 2.5l-.94 2.06-2.06.94zm10 10l.94 2.06.94-2.06 2.06-.94-2.06-.94-.94-2.06-.94 2.06-2.06.94z\"/><path d=\"M17.41 7.96l-1.37-1.37c-.4-.4-.92-.59-1.43-.59-.52 0-1.04.2-1.43.59L10.3 9.45l-7.72 7.72c-.78.78-.78 2.05 0 2.83L4 21.41c.39.39.9.59 1.41.59.51 0 1.02-.2 1.41-.59l7.78-7.78 2.81-2.81c.8-.78.8-2.07 0-2.86zM5.41 20L4 18.59l7.72-7.72 1.47 1.35L5.41 20z\"/>\n",
              "  </svg>\n",
              "      </button>\n",
              "      \n",
              "  <style>\n",
              "    .colab-df-container {\n",
              "      display:flex;\n",
              "      flex-wrap:wrap;\n",
              "      gap: 12px;\n",
              "    }\n",
              "\n",
              "    .colab-df-convert {\n",
              "      background-color: #E8F0FE;\n",
              "      border: none;\n",
              "      border-radius: 50%;\n",
              "      cursor: pointer;\n",
              "      display: none;\n",
              "      fill: #1967D2;\n",
              "      height: 32px;\n",
              "      padding: 0 0 0 0;\n",
              "      width: 32px;\n",
              "    }\n",
              "\n",
              "    .colab-df-convert:hover {\n",
              "      background-color: #E2EBFA;\n",
              "      box-shadow: 0px 1px 2px rgba(60, 64, 67, 0.3), 0px 1px 3px 1px rgba(60, 64, 67, 0.15);\n",
              "      fill: #174EA6;\n",
              "    }\n",
              "\n",
              "    [theme=dark] .colab-df-convert {\n",
              "      background-color: #3B4455;\n",
              "      fill: #D2E3FC;\n",
              "    }\n",
              "\n",
              "    [theme=dark] .colab-df-convert:hover {\n",
              "      background-color: #434B5C;\n",
              "      box-shadow: 0px 1px 3px 1px rgba(0, 0, 0, 0.15);\n",
              "      filter: drop-shadow(0px 1px 2px rgba(0, 0, 0, 0.3));\n",
              "      fill: #FFFFFF;\n",
              "    }\n",
              "  </style>\n",
              "\n",
              "      <script>\n",
              "        const buttonEl =\n",
              "          document.querySelector('#df-dc83f910-6444-4741-bf10-9c8c5969692a button.colab-df-convert');\n",
              "        buttonEl.style.display =\n",
              "          google.colab.kernel.accessAllowed ? 'block' : 'none';\n",
              "\n",
              "        async function convertToInteractive(key) {\n",
              "          const element = document.querySelector('#df-dc83f910-6444-4741-bf10-9c8c5969692a');\n",
              "          const dataTable =\n",
              "            await google.colab.kernel.invokeFunction('convertToInteractive',\n",
              "                                                     [key], {});\n",
              "          if (!dataTable) return;\n",
              "\n",
              "          const docLinkHtml = 'Like what you see? Visit the ' +\n",
              "            '<a target=\"_blank\" href=https://colab.research.google.com/notebooks/data_table.ipynb>data table notebook</a>'\n",
              "            + ' to learn more about interactive tables.';\n",
              "          element.innerHTML = '';\n",
              "          dataTable['output_type'] = 'display_data';\n",
              "          await google.colab.output.renderOutput(dataTable, element);\n",
              "          const docLink = document.createElement('div');\n",
              "          docLink.innerHTML = docLinkHtml;\n",
              "          element.appendChild(docLink);\n",
              "        }\n",
              "      </script>\n",
              "    </div>\n",
              "  </div>\n",
              "  "
            ]
          },
          "metadata": {},
          "execution_count": 27
        }
      ],
      "source": [
        "# Trending topics of the year\n",
        "df= pd.DataFrame()\n",
        "\n",
        "for year in range(2004, 2022):\n",
        "    trending = trends.top_charts(year, hl= \"en-US\", geo= \"GLOBAL\")\n",
        "    df[year]= trending.title\n",
        "    \n",
        "df.iloc[:, :9].head(5)"
      ]
    },
    {
      "cell_type": "code",
      "source": [
        "df.iloc[:, 9:].head(5)"
      ],
      "metadata": {
        "id": "C9XNFk7OdEWH",
        "outputId": "218a7216-43ae-43ec-fec5-c0f133825368",
        "colab": {
          "base_uri": "https://localhost:8080/",
          "height": 206
        }
      },
      "execution_count": 28,
      "outputs": [
        {
          "output_type": "execute_result",
          "data": {
            "text/plain": [
              "              2013                      2014            2015          2016  \\\n",
              "0  Oscar Pistorius            Robin Williams      Lamar Odom    Pokémon Go   \n",
              "1  Aaron Hernandez                 World Cup   Charlie Hebdo      iPhone 7   \n",
              "2  Adrian Peterson                     Ebola         Agar.io  Donald Trump   \n",
              "3       Kevin Ware         Malaysia Airlines  Jurassic World        Prince   \n",
              "4  Lance Armstrong  ALS Ice Bucket Challenge           Paris     Powerball   \n",
              "\n",
              "             2017           2018                   2019              2020  \\\n",
              "0  Hurricane Irma      World Cup  India vs South Africa       Coronavirus   \n",
              "1        iPhone 8         Avicii          Cameron Boyce  Election results   \n",
              "2        iPhone X     Mac Miller           Copa America       Kobe Bryant   \n",
              "3      Matt Lauer       Stan Lee    Bangladesh vs India              Zoom   \n",
              "4   Meghan Markle  Black Panther              iPhone 11               IPL   \n",
              "\n",
              "                 2021  \n",
              "0  Australia vs India  \n",
              "1    India vs England  \n",
              "2                 IPL  \n",
              "3                 NBA  \n",
              "4           Euro 2021  "
            ],
            "text/html": [
              "\n",
              "  <div id=\"df-7b43cd41-7a26-4d59-b324-3828e20b62d6\">\n",
              "    <div class=\"colab-df-container\">\n",
              "      <div>\n",
              "<style scoped>\n",
              "    .dataframe tbody tr th:only-of-type {\n",
              "        vertical-align: middle;\n",
              "    }\n",
              "\n",
              "    .dataframe tbody tr th {\n",
              "        vertical-align: top;\n",
              "    }\n",
              "\n",
              "    .dataframe thead th {\n",
              "        text-align: right;\n",
              "    }\n",
              "</style>\n",
              "<table border=\"1\" class=\"dataframe\">\n",
              "  <thead>\n",
              "    <tr style=\"text-align: right;\">\n",
              "      <th></th>\n",
              "      <th>2013</th>\n",
              "      <th>2014</th>\n",
              "      <th>2015</th>\n",
              "      <th>2016</th>\n",
              "      <th>2017</th>\n",
              "      <th>2018</th>\n",
              "      <th>2019</th>\n",
              "      <th>2020</th>\n",
              "      <th>2021</th>\n",
              "    </tr>\n",
              "  </thead>\n",
              "  <tbody>\n",
              "    <tr>\n",
              "      <th>0</th>\n",
              "      <td>Oscar Pistorius</td>\n",
              "      <td>Robin Williams</td>\n",
              "      <td>Lamar Odom</td>\n",
              "      <td>Pokémon Go</td>\n",
              "      <td>Hurricane Irma</td>\n",
              "      <td>World Cup</td>\n",
              "      <td>India vs South Africa</td>\n",
              "      <td>Coronavirus</td>\n",
              "      <td>Australia vs India</td>\n",
              "    </tr>\n",
              "    <tr>\n",
              "      <th>1</th>\n",
              "      <td>Aaron Hernandez</td>\n",
              "      <td>World Cup</td>\n",
              "      <td>Charlie Hebdo</td>\n",
              "      <td>iPhone 7</td>\n",
              "      <td>iPhone 8</td>\n",
              "      <td>Avicii</td>\n",
              "      <td>Cameron Boyce</td>\n",
              "      <td>Election results</td>\n",
              "      <td>India vs England</td>\n",
              "    </tr>\n",
              "    <tr>\n",
              "      <th>2</th>\n",
              "      <td>Adrian Peterson</td>\n",
              "      <td>Ebola</td>\n",
              "      <td>Agar.io</td>\n",
              "      <td>Donald Trump</td>\n",
              "      <td>iPhone X</td>\n",
              "      <td>Mac Miller</td>\n",
              "      <td>Copa America</td>\n",
              "      <td>Kobe Bryant</td>\n",
              "      <td>IPL</td>\n",
              "    </tr>\n",
              "    <tr>\n",
              "      <th>3</th>\n",
              "      <td>Kevin Ware</td>\n",
              "      <td>Malaysia Airlines</td>\n",
              "      <td>Jurassic World</td>\n",
              "      <td>Prince</td>\n",
              "      <td>Matt Lauer</td>\n",
              "      <td>Stan Lee</td>\n",
              "      <td>Bangladesh vs India</td>\n",
              "      <td>Zoom</td>\n",
              "      <td>NBA</td>\n",
              "    </tr>\n",
              "    <tr>\n",
              "      <th>4</th>\n",
              "      <td>Lance Armstrong</td>\n",
              "      <td>ALS Ice Bucket Challenge</td>\n",
              "      <td>Paris</td>\n",
              "      <td>Powerball</td>\n",
              "      <td>Meghan Markle</td>\n",
              "      <td>Black Panther</td>\n",
              "      <td>iPhone 11</td>\n",
              "      <td>IPL</td>\n",
              "      <td>Euro 2021</td>\n",
              "    </tr>\n",
              "  </tbody>\n",
              "</table>\n",
              "</div>\n",
              "      <button class=\"colab-df-convert\" onclick=\"convertToInteractive('df-7b43cd41-7a26-4d59-b324-3828e20b62d6')\"\n",
              "              title=\"Convert this dataframe to an interactive table.\"\n",
              "              style=\"display:none;\">\n",
              "        \n",
              "  <svg xmlns=\"http://www.w3.org/2000/svg\" height=\"24px\"viewBox=\"0 0 24 24\"\n",
              "       width=\"24px\">\n",
              "    <path d=\"M0 0h24v24H0V0z\" fill=\"none\"/>\n",
              "    <path d=\"M18.56 5.44l.94 2.06.94-2.06 2.06-.94-2.06-.94-.94-2.06-.94 2.06-2.06.94zm-11 1L8.5 8.5l.94-2.06 2.06-.94-2.06-.94L8.5 2.5l-.94 2.06-2.06.94zm10 10l.94 2.06.94-2.06 2.06-.94-2.06-.94-.94-2.06-.94 2.06-2.06.94z\"/><path d=\"M17.41 7.96l-1.37-1.37c-.4-.4-.92-.59-1.43-.59-.52 0-1.04.2-1.43.59L10.3 9.45l-7.72 7.72c-.78.78-.78 2.05 0 2.83L4 21.41c.39.39.9.59 1.41.59.51 0 1.02-.2 1.41-.59l7.78-7.78 2.81-2.81c.8-.78.8-2.07 0-2.86zM5.41 20L4 18.59l7.72-7.72 1.47 1.35L5.41 20z\"/>\n",
              "  </svg>\n",
              "      </button>\n",
              "      \n",
              "  <style>\n",
              "    .colab-df-container {\n",
              "      display:flex;\n",
              "      flex-wrap:wrap;\n",
              "      gap: 12px;\n",
              "    }\n",
              "\n",
              "    .colab-df-convert {\n",
              "      background-color: #E8F0FE;\n",
              "      border: none;\n",
              "      border-radius: 50%;\n",
              "      cursor: pointer;\n",
              "      display: none;\n",
              "      fill: #1967D2;\n",
              "      height: 32px;\n",
              "      padding: 0 0 0 0;\n",
              "      width: 32px;\n",
              "    }\n",
              "\n",
              "    .colab-df-convert:hover {\n",
              "      background-color: #E2EBFA;\n",
              "      box-shadow: 0px 1px 2px rgba(60, 64, 67, 0.3), 0px 1px 3px 1px rgba(60, 64, 67, 0.15);\n",
              "      fill: #174EA6;\n",
              "    }\n",
              "\n",
              "    [theme=dark] .colab-df-convert {\n",
              "      background-color: #3B4455;\n",
              "      fill: #D2E3FC;\n",
              "    }\n",
              "\n",
              "    [theme=dark] .colab-df-convert:hover {\n",
              "      background-color: #434B5C;\n",
              "      box-shadow: 0px 1px 3px 1px rgba(0, 0, 0, 0.15);\n",
              "      filter: drop-shadow(0px 1px 2px rgba(0, 0, 0, 0.3));\n",
              "      fill: #FFFFFF;\n",
              "    }\n",
              "  </style>\n",
              "\n",
              "      <script>\n",
              "        const buttonEl =\n",
              "          document.querySelector('#df-7b43cd41-7a26-4d59-b324-3828e20b62d6 button.colab-df-convert');\n",
              "        buttonEl.style.display =\n",
              "          google.colab.kernel.accessAllowed ? 'block' : 'none';\n",
              "\n",
              "        async function convertToInteractive(key) {\n",
              "          const element = document.querySelector('#df-7b43cd41-7a26-4d59-b324-3828e20b62d6');\n",
              "          const dataTable =\n",
              "            await google.colab.kernel.invokeFunction('convertToInteractive',\n",
              "                                                     [key], {});\n",
              "          if (!dataTable) return;\n",
              "\n",
              "          const docLinkHtml = 'Like what you see? Visit the ' +\n",
              "            '<a target=\"_blank\" href=https://colab.research.google.com/notebooks/data_table.ipynb>data table notebook</a>'\n",
              "            + ' to learn more about interactive tables.';\n",
              "          element.innerHTML = '';\n",
              "          dataTable['output_type'] = 'display_data';\n",
              "          await google.colab.output.renderOutput(dataTable, element);\n",
              "          const docLink = document.createElement('div');\n",
              "          docLink.innerHTML = docLinkHtml;\n",
              "          element.appendChild(docLink);\n",
              "        }\n",
              "      </script>\n",
              "    </div>\n",
              "  </div>\n",
              "  "
            ]
          },
          "metadata": {},
          "execution_count": 28
        }
      ]
    },
    {
      "cell_type": "markdown",
      "source": [
        "***Daily trends***\n",
        "---\n",
        "*Daily Search Trends highlights searchers that jumped significantly in traffic among all searches over the past 24 hours and update hourly.*\n",
        "---\n",
        "*These trends highlight specific queries that were searched, and an absolute number of searches made*\n"
      ],
      "metadata": {
        "id": "pop-SR4lJV3y"
      }
    },
    {
      "cell_type": "code",
      "execution_count": 16,
      "metadata": {
        "id": "ojPlZFKd30pW",
        "outputId": "7128b465-9609-44d2-e8af-c40c1753c61a",
        "colab": {
          "base_uri": "https://localhost:8080/"
        }
      },
      "outputs": [
        {
          "output_type": "execute_result",
          "data": {
            "text/plain": [
              "0    /trends/explore?q=Ayman+al-Zawahiri&date=now+7...\n",
              "1    /trends/explore?q=Guy+Reffitt&date=now+7-d&geo=DK\n",
              "2         /trends/explore?q=Serena&date=now+7-d&geo=DK\n",
              "3    /trends/explore?q=Taylor+Swift&date=now+7-d&ge...\n",
              "Name: exploreLink, dtype: object"
            ]
          },
          "metadata": {},
          "execution_count": 16
        }
      ],
      "source": [
        "# Get today´s trending topics\n",
        "trendingtoday = trends.today_searches(pn='DK')\n",
        "trendingtoday.head()\n",
        "  "
      ]
    },
    {
      "cell_type": "markdown",
      "source": [
        "**Realtime Trends Searches in a Specific Country**\n",
        "---\n",
        "*It highlight stories that are trending across Google surfaces within the last 24 hours and are updated in real-time*\n",
        "\n",
        "The \"pn\" argument specifies the geographical location, the US in our example."
      ],
      "metadata": {
        "id": "DZQ4qK4yScqp"
      }
    },
    {
      "cell_type": "code",
      "execution_count": 17,
      "metadata": {
        "id": "5BKOe2bn30pX",
        "outputId": "4b2eb46e-fab7-454f-835c-c7648d9a12a7",
        "colab": {
          "base_uri": "https://localhost:8080/",
          "height": 363
        }
      },
      "outputs": [
        {
          "output_type": "execute_result",
          "data": {
            "text/plain": [
              "                         0\n",
              "0              Guy Reffitt\n",
              "1                   Serena\n",
              "2             Taylor Swift\n",
              "3                   Taiwan\n",
              "4                       Su\n",
              "5        Archie Battersbee\n",
              "6         Nichelle Nichols\n",
              "7               Office 365\n",
              "8  National Girlfriend Day\n",
              "9              Hugh Hefner"
            ],
            "text/html": [
              "\n",
              "  <div id=\"df-256571ec-e727-4a1f-88eb-65e3bcadb4f7\">\n",
              "    <div class=\"colab-df-container\">\n",
              "      <div>\n",
              "<style scoped>\n",
              "    .dataframe tbody tr th:only-of-type {\n",
              "        vertical-align: middle;\n",
              "    }\n",
              "\n",
              "    .dataframe tbody tr th {\n",
              "        vertical-align: top;\n",
              "    }\n",
              "\n",
              "    .dataframe thead th {\n",
              "        text-align: right;\n",
              "    }\n",
              "</style>\n",
              "<table border=\"1\" class=\"dataframe\">\n",
              "  <thead>\n",
              "    <tr style=\"text-align: right;\">\n",
              "      <th></th>\n",
              "      <th>0</th>\n",
              "    </tr>\n",
              "  </thead>\n",
              "  <tbody>\n",
              "    <tr>\n",
              "      <th>0</th>\n",
              "      <td>Guy Reffitt</td>\n",
              "    </tr>\n",
              "    <tr>\n",
              "      <th>1</th>\n",
              "      <td>Serena</td>\n",
              "    </tr>\n",
              "    <tr>\n",
              "      <th>2</th>\n",
              "      <td>Taylor Swift</td>\n",
              "    </tr>\n",
              "    <tr>\n",
              "      <th>3</th>\n",
              "      <td>Taiwan</td>\n",
              "    </tr>\n",
              "    <tr>\n",
              "      <th>4</th>\n",
              "      <td>Su</td>\n",
              "    </tr>\n",
              "    <tr>\n",
              "      <th>5</th>\n",
              "      <td>Archie Battersbee</td>\n",
              "    </tr>\n",
              "    <tr>\n",
              "      <th>6</th>\n",
              "      <td>Nichelle Nichols</td>\n",
              "    </tr>\n",
              "    <tr>\n",
              "      <th>7</th>\n",
              "      <td>Office 365</td>\n",
              "    </tr>\n",
              "    <tr>\n",
              "      <th>8</th>\n",
              "      <td>National Girlfriend Day</td>\n",
              "    </tr>\n",
              "    <tr>\n",
              "      <th>9</th>\n",
              "      <td>Hugh Hefner</td>\n",
              "    </tr>\n",
              "  </tbody>\n",
              "</table>\n",
              "</div>\n",
              "      <button class=\"colab-df-convert\" onclick=\"convertToInteractive('df-256571ec-e727-4a1f-88eb-65e3bcadb4f7')\"\n",
              "              title=\"Convert this dataframe to an interactive table.\"\n",
              "              style=\"display:none;\">\n",
              "        \n",
              "  <svg xmlns=\"http://www.w3.org/2000/svg\" height=\"24px\"viewBox=\"0 0 24 24\"\n",
              "       width=\"24px\">\n",
              "    <path d=\"M0 0h24v24H0V0z\" fill=\"none\"/>\n",
              "    <path d=\"M18.56 5.44l.94 2.06.94-2.06 2.06-.94-2.06-.94-.94-2.06-.94 2.06-2.06.94zm-11 1L8.5 8.5l.94-2.06 2.06-.94-2.06-.94L8.5 2.5l-.94 2.06-2.06.94zm10 10l.94 2.06.94-2.06 2.06-.94-2.06-.94-.94-2.06-.94 2.06-2.06.94z\"/><path d=\"M17.41 7.96l-1.37-1.37c-.4-.4-.92-.59-1.43-.59-.52 0-1.04.2-1.43.59L10.3 9.45l-7.72 7.72c-.78.78-.78 2.05 0 2.83L4 21.41c.39.39.9.59 1.41.59.51 0 1.02-.2 1.41-.59l7.78-7.78 2.81-2.81c.8-.78.8-2.07 0-2.86zM5.41 20L4 18.59l7.72-7.72 1.47 1.35L5.41 20z\"/>\n",
              "  </svg>\n",
              "      </button>\n",
              "      \n",
              "  <style>\n",
              "    .colab-df-container {\n",
              "      display:flex;\n",
              "      flex-wrap:wrap;\n",
              "      gap: 12px;\n",
              "    }\n",
              "\n",
              "    .colab-df-convert {\n",
              "      background-color: #E8F0FE;\n",
              "      border: none;\n",
              "      border-radius: 50%;\n",
              "      cursor: pointer;\n",
              "      display: none;\n",
              "      fill: #1967D2;\n",
              "      height: 32px;\n",
              "      padding: 0 0 0 0;\n",
              "      width: 32px;\n",
              "    }\n",
              "\n",
              "    .colab-df-convert:hover {\n",
              "      background-color: #E2EBFA;\n",
              "      box-shadow: 0px 1px 2px rgba(60, 64, 67, 0.3), 0px 1px 3px 1px rgba(60, 64, 67, 0.15);\n",
              "      fill: #174EA6;\n",
              "    }\n",
              "\n",
              "    [theme=dark] .colab-df-convert {\n",
              "      background-color: #3B4455;\n",
              "      fill: #D2E3FC;\n",
              "    }\n",
              "\n",
              "    [theme=dark] .colab-df-convert:hover {\n",
              "      background-color: #434B5C;\n",
              "      box-shadow: 0px 1px 3px 1px rgba(0, 0, 0, 0.15);\n",
              "      filter: drop-shadow(0px 1px 2px rgba(0, 0, 0, 0.3));\n",
              "      fill: #FFFFFF;\n",
              "    }\n",
              "  </style>\n",
              "\n",
              "      <script>\n",
              "        const buttonEl =\n",
              "          document.querySelector('#df-256571ec-e727-4a1f-88eb-65e3bcadb4f7 button.colab-df-convert');\n",
              "        buttonEl.style.display =\n",
              "          google.colab.kernel.accessAllowed ? 'block' : 'none';\n",
              "\n",
              "        async function convertToInteractive(key) {\n",
              "          const element = document.querySelector('#df-256571ec-e727-4a1f-88eb-65e3bcadb4f7');\n",
              "          const dataTable =\n",
              "            await google.colab.kernel.invokeFunction('convertToInteractive',\n",
              "                                                     [key], {});\n",
              "          if (!dataTable) return;\n",
              "\n",
              "          const docLinkHtml = 'Like what you see? Visit the ' +\n",
              "            '<a target=\"_blank\" href=https://colab.research.google.com/notebooks/data_table.ipynb>data table notebook</a>'\n",
              "            + ' to learn more about interactive tables.';\n",
              "          element.innerHTML = '';\n",
              "          dataTable['output_type'] = 'display_data';\n",
              "          await google.colab.output.renderOutput(dataTable, element);\n",
              "          const docLink = document.createElement('div');\n",
              "          docLink.innerHTML = docLinkHtml;\n",
              "          element.appendChild(docLink);\n",
              "        }\n",
              "      </script>\n",
              "    </div>\n",
              "  </div>\n",
              "  "
            ]
          },
          "metadata": {},
          "execution_count": 17
        }
      ],
      "source": [
        "# Get realtime Google Trends data\n",
        "trends_realtime= trends.trending_searches(pn='denmark')\n",
        "trends_realtime.head(10)\n",
        "\n",
        "#df = trends.realtime_trending_searches(pn='denmark')\n",
        "#df.head(10)"
      ]
    },
    {
      "cell_type": "code",
      "execution_count": 17,
      "metadata": {
        "id": "dOhCKhi030pY"
      },
      "outputs": [],
      "source": [
        ""
      ]
    },
    {
      "cell_type": "code",
      "execution_count": 17,
      "metadata": {
        "id": "iaq9lxJB30pY"
      },
      "outputs": [],
      "source": [
        ""
      ]
    },
    {
      "cell_type": "code",
      "execution_count": 17,
      "metadata": {
        "id": "500ZFv9n30pZ"
      },
      "outputs": [],
      "source": [
        ""
      ]
    },
    {
      "cell_type": "code",
      "execution_count": 17,
      "metadata": {
        "id": "W6WmctZk30pZ"
      },
      "outputs": [],
      "source": [
        ""
      ]
    }
  ],
  "metadata": {
    "kernelspec": {
      "display_name": "Python 3",
      "language": "python",
      "name": "python3"
    },
    "language_info": {
      "codemirror_mode": {
        "name": "ipython",
        "version": 3
      },
      "file_extension": ".py",
      "mimetype": "text/x-python",
      "name": "python",
      "nbconvert_exporter": "python",
      "pygments_lexer": "ipython3",
      "version": "3.8.3"
    },
    "colab": {
      "name": "GoogleTrends.ipynb",
      "provenance": []
    }
  },
  "nbformat": 4,
  "nbformat_minor": 0
}