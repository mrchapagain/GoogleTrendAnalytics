{
  "cells": [
    {
      "cell_type": "markdown",
      "metadata": {
        "id": "0u3siz6q30ot"
      },
      "source": [
        "# Google Trends analytics using Python\n",
        "- Here we will be analyzing the Google search trends on the queries of our intered {You will get a chance to provide input}."
      ]
    },
    {
      "cell_type": "markdown",
      "source": [
        "***Start with importing libraries.***\n",
        "---\n",
        "*Probably need to run \"pip install pytrends\"*"
      ],
      "metadata": {
        "id": "95RvRvdMCAly"
      }
    },
    {
      "cell_type": "code",
      "execution_count": 5,
      "metadata": {
        "id": "qAI3W-x730o4"
      },
      "outputs": [],
      "source": [
        "# import necessary libaries\n",
        "import pandas as pd\n",
        "import numpy as np\n",
        "\n",
        "from pytrends.request import TrendReq\n",
        "\n",
        "import matplotlib.pyplot as plt\n",
        "import seaborn as sns\n",
        "from seaborn import load_dataset\n",
        "\n",
        "import warnings\n",
        "warnings.filterwarnings(\"ignore\")"
      ]
    },
    {
      "cell_type": "markdown",
      "metadata": {
        "id": "kyzK5DjB30o8"
      },
      "source": [
        "# Connect to Google\n",
        "- The first step after installation is to connect Pytrends to Google Trends so that WE can send a request and get the information WE need.\n",
        "---\n",
        "The TrendReq receives two important parameters; hl & tz.\n",
        "\n",
        "hl stands for hosting language for accessing Google Trends; in this example, we set English.\n",
        "\n",
        "tz stands for timezone"
      ]
    },
    {
      "cell_type": "code",
      "execution_count": 42,
      "metadata": {
        "id": "FZ993mWJ30o9",
        "outputId": "e66ae964-6ab4-40b2-ceba-c6e2011d5fb6",
        "colab": {
          "base_uri": "https://localhost:8080/"
        }
      },
      "outputs": [
        {
          "output_type": "execute_result",
          "data": {
            "text/plain": [
              "<pytrends.request.TrendReq at 0x7f869f361250>"
            ]
          },
          "metadata": {},
          "execution_count": 42
        }
      ],
      "source": [
        "# Configuring connection\n",
        "trends = TrendReq(hl='en-US', tz= 360, timeout=(10,25))\n",
        "\"\"\"Lets see what we can get with trends object\"\"\"\n",
        "trends"
      ]
    },
    {
      "cell_type": "markdown",
      "metadata": {
        "id": "kwFL8VTa30o_"
      },
      "source": [
        "# Build Payload\n",
        "> The build_payload method from Pytrends is used to build a list of keywords that want to search in Google Trends. Can also specify the timeframe to gather data and the category to query the data from.\n",
        "---\n",
        "*kw_list:* list of the target search terms \n",
        "\n",
        "*cat:* Category to narrow result fx. Art, Entertainment\n",
        "\n",
        "*timeframe:* Date to start from fx. Defaults to last 5yrs is 'today 5-y' or Everything is 'all'\n",
        "\n",
        "*geo:* Location of interest represent by two letter country abbreviation fx. United States is 'US' or Defaults to World\n",
        "\n",
        "*gprop:* What Google property to filter to fx. \"image\" or \"news\" default to web searches"
      ]
    },
    {
      "cell_type": "code",
      "execution_count": 44,
      "metadata": {
        "id": "TWy98vlf30pA",
        "outputId": "69d035e6-cb64-478e-aef3-c496d06af9dc",
        "colab": {
          "base_uri": "https://localhost:8080/"
        }
      },
      "outputs": [
        {
          "output_type": "stream",
          "name": "stdout",
          "text": [
            "Enter the word that wanna see in Google Trends. >> Balen\n",
            "you have entered ['Balen']\n",
            "Trends object is ready to explore as -> <pytrends.request.TrendReq object at 0x7f869f361250>\n"
          ]
        }
      ],
      "source": [
        "kw_list = [input(\"Enter the word that wanna see in Google Trends. >> \")]  # list of keywords to get data \n",
        "print(f'you have entered {kw_list}')\n",
        "\n",
        "# Build playload\n",
        "trends.build_payload(kw_list, cat=0, timeframe='today 5-y', geo= 'NP', gprop='') \n",
        "\n",
        "# lets check if we got the data from google or not?\n",
        "print(f'Trends object is ready to explore as -> {trends}')"
      ]
    },
    {
      "cell_type": "markdown",
      "metadata": {
        "id": "WRian8L030pH"
      },
      "source": [
        "# What kind of data want to pull? possible methods are:\n",
        "- Interest Over Time: returns historical, indexed data for when the keyword was searched\n",
        "- Historical Hourly Interest:  returns historical, indexed, hourly data for when the keyword was searched\n",
        "- Interest by Region: returns data for where the keyword is most searched\n",
        "- Related Topics: returns data for the related keywords to a provided keyword\n",
        "- Related Queries: returns data for the related keywords to a provided keyword\n",
        "- Trending Searches: returns data for latest trending searches\n",
        "- Top Charts: returns the data for a given topic\n",
        "- Suggestions: returns a list of additional suggested keywords that can be used to refine a trend search."
      ]
    },
    {
      "cell_type": "code",
      "execution_count": 46,
      "metadata": {
        "id": "_qcnNQzK30pM"
      },
      "outputs": [],
      "source": [
        "# Function to Disply in the figure\n",
        "def displayfig(x, y, title, x_label, y_label, fsize):\n",
        "    \"\"\" The function will take x & value including title, x_label & y_label, & figuresize then display the figure\"\"\"\n",
        "    plt.figure(figsize= fsize)\n",
        "    plt.plot(x,y)\n",
        "    plt.title(title)\n",
        "    plt.xlabel(x_label)\n",
        "    plt.ylabel(y_label)\n",
        "    plt.show()"
      ]
    },
    {
      "cell_type": "markdown",
      "source": [
        "***Interest Over Time***"
      ],
      "metadata": {
        "id": "JAIUwoPBQ4Df"
      }
    },
    {
      "cell_type": "code",
      "execution_count": 47,
      "metadata": {
        "id": "dEk6nNfi30pP",
        "outputId": "eaef7b81-94a5-4fcc-a6e3-8def1855c2c4",
        "colab": {
          "base_uri": "https://localhost:8080/",
          "height": 562
        }
      },
      "outputs": [
        {
          "output_type": "stream",
          "name": "stdout",
          "text": [
            "          date  Balen\n",
            "256 2022-05-08     61\n",
            "257 2022-05-15    100\n",
            "258 2022-05-22     58\n",
            "259 2022-05-29     25\n",
            "260 2022-06-05      0\n"
          ]
        },
        {
          "output_type": "display_data",
          "data": {
            "text/plain": [
              "<Figure size 1008x504 with 1 Axes>"
            ],
            "image/png": "[encoded data removed]"
          },
          "metadata": {
            "needs_background": "light"
          }
        }
      ],
      "source": [
        "# Interest Over Time\n",
        "data_over_time= trends.interest_over_time().drop(columns='isPartial')\n",
        "data_over_time = data_over_time.reset_index()\n",
        "print(data_over_time.tail())\n",
        "\n",
        "# Disply in the figure\n",
        "displayfig(x=data_over_time[\"date\"], y=data_over_time.iloc[:, 1], title= \"Keyword Web Search of {kw_list} Interest Over Time\".format(kw_list=kw_list), x_label= \"date\", y_label=\"Trends over time\", fsize= (14, 7))"
      ]
    },
    {
      "cell_type": "markdown",
      "source": [
        "**Historical Hourly Interest**"
      ],
      "metadata": {
        "id": "2goieW1FqPZC"
      }
    },
    {
      "cell_type": "code",
      "execution_count": 41,
      "metadata": {
        "id": "JUYxSK3P30pS",
        "outputId": "337c7e3d-c336-4c6b-c46f-90201b199b90",
        "colab": {
          "base_uri": "https://localhost:8080/",
          "height": 527
        }
      },
      "outputs": [
        {
          "output_type": "stream",
          "name": "stdout",
          "text": [
            "The request failed: Google returned a response with code 400.\n",
            "The request failed: Google returned a response with code 400.\n",
            "The request failed: Google returned a response with code 400.\n",
            "The request failed: Google returned a response with code 400.\n"
          ]
        },
        {
          "output_type": "display_data",
          "data": {
            "text/plain": [
              "<Figure size 1008x504 with 1 Axes>"
            ],
            "image/png": "[encoded data removed]"
          },
          "metadata": {
            "needs_background": "light"
          }
        }
      ],
      "source": [
        "# Historical Hourly Interest (The hourly interest of the keyword)\n",
        "hourly_trends= trends.get_historical_interest(kw_list, year_start=2022, month_start=3, day_start=1, hour_start=0, year_end=2022, month_end=7, day_end=5, hour_end=0)\n",
        "hourly_trends = hourly_trends.reset_index()\n",
        "\n",
        "# Disply in the figure\n",
        "plt.figure(figsize= (14, 7))\n",
        "plt.plot(hourly_trends[\"date\"], hourly_trends.iloc[:, 1])\n",
        "plt.title(\"Hourly search trends of {kw_list}\".format(kw_list=kw_list))\n",
        "plt.xlabel(\"date\")\n",
        "plt.ylabel(\"Hourly trends rate\")\n",
        "plt.show()"
      ]
    },
    {
      "cell_type": "markdown",
      "source": [
        "**Interest by Region(Search by geographical region)**\n",
        "\n",
        "To show you which countries search the keyword on a scale of 0 to 100, where 100 represents a country with the most search\n",
        "\n",
        "*The resolution value is dependent on the geo parameter of the common configuration:*\n",
        "\n",
        "*Use resolution='COUNTRY' for geo='World'*\n",
        "\n",
        "*Use resolution='REGION' for geo='US', for example*"
      ],
      "metadata": {
        "id": "hbp1Hmg9qTAk"
      }
    },
    {
      "cell_type": "code",
      "execution_count": 274,
      "metadata": {
        "scrolled": true,
        "id": "VhY2qzx230pT",
        "outputId": "c1845916-d320-4154-d398-5016f67bc9ff",
        "colab": {
          "base_uri": "https://localhost:8080/"
        }
      },
      "outputs": [
        {
          "output_type": "stream",
          "name": "stdout",
          "text": [
            "                    Balen\n",
            "geoName                  \n",
            "Eastern Region        100\n",
            "Far-Western Region     91\n",
            "Mid-Western Region     88\n",
            "Central Region         80\n",
            "Western Region         70\n"
          ]
        }
      ],
      "source": [
        "# resolution can be either CITY, COUNTRY or REGION\n",
        "trends_by_region= trends.interest_by_region(resolution='', inc_low_vol=True, inc_geo_code=False)\n",
        "trends_by_region = trends_by_region.sort_values(by=kw_list, ascending=False)\n",
        "print(trends_by_region.head(10))\n"
      ]
    },
    {
      "cell_type": "markdown",
      "source": [
        "**Related Queries**"
      ],
      "metadata": {
        "id": "VFFmlROvqWgJ"
      }
    },
    {
      "cell_type": "code",
      "execution_count": 39,
      "metadata": {
        "id": "_bdVJzFN30pU"
      },
      "outputs": [],
      "source": [
        "# Related Queries (keywords that are closely tied to a primary keyword of the choice)\n",
        "related_queries= trends.related_queries()\n",
        "related_queries[kw_list[0]]['top']"
      ]
    },
    {
      "cell_type": "markdown",
      "source": [
        "**Trending topics of the year**"
      ],
      "metadata": {
        "id": "LGn1ar-oqaCy"
      }
    },
    {
      "cell_type": "code",
      "execution_count": 235,
      "metadata": {
        "id": "3TNNMYIw30pV",
        "outputId": "446a65ef-bb1f-412e-bbab-2744fbc7419b",
        "colab": {
          "base_uri": "https://localhost:8080/"
        }
      },
      "outputs": [
        {
          "output_type": "stream",
          "name": "stdout",
          "text": [
            "             2004                  2005             2006  \\\n",
            "0         Ferrari                  iPod   Aaron Spelling   \n",
            "1             BMW        Digital Camera    Kirby Puckett   \n",
            "2     Lamborghini            MP3 Player        Jack Wild   \n",
            "3  Nissan Skyline             iPod Mini  Clifford Geertz   \n",
            "4         Porsche  PlayStation Portable     Muriel Spark   \n",
            "\n",
            "                     2007               2008              2009        2010  \\\n",
            "0           American Idol    Joe The Plumber   Michael Jackson        iPad   \n",
            "1                 YouTube    Jeremiah Wright      Transformers    iPhone 4   \n",
            "2          Britney Spears           Maverick            Eminem  Nokia 5530   \n",
            "3  2007 Cricket World Cup      William Ayers  Naruto Shippuden  HTC EVO 4g   \n",
            "4            Chris Benoit  Bridge To Nowhere           Beyoncé  Nokia N900   \n",
            "\n",
            "                 2011                2012             2013  \\\n",
            "0  Amazon Kindle Fire  Southwest Airlines  Oscar Pistorius   \n",
            "1           iPhone 4s     United Airlines  Aaron Hernandez   \n",
            "2         Sidekick 4g   American Airlines  Adrian Peterson   \n",
            "3         Hp Touchpad      Delta Airlines       Kevin Ware   \n",
            "4        Spb Shell 3d          Air France  Lance Armstrong   \n",
            "\n",
            "                       2014            2015          2016            2017  \\\n",
            "0            Robin Williams      Lamar Odom    Pokémon Go  Hurricane Irma   \n",
            "1                 World Cup   Charlie Hebdo      iPhone 7        iPhone 8   \n",
            "2                     Ebola         Agar.io  Donald Trump        iPhone X   \n",
            "3         Malaysia Airlines  Jurassic World        Prince      Matt Lauer   \n",
            "4  ALS Ice Bucket Challenge           Paris     Powerball   Meghan Markle   \n",
            "\n",
            "            2018                   2019              2020                2021  \n",
            "0      World Cup  India vs South Africa       Coronavirus  Australia vs India  \n",
            "1         Avicii          Cameron Boyce  Election results    India vs England  \n",
            "2     Mac Miller           Copa America       Kobe Bryant                 IPL  \n",
            "3       Stan Lee    Bangladesh vs India              Zoom                 NBA  \n",
            "4  Black Panther              iPhone 11               IPL           Euro 2021  \n"
          ]
        }
      ],
      "source": [
        "# Trending topics of the year\n",
        "df= pd.DataFrame()\n",
        "\n",
        "for year in range(2004, 2022):\n",
        "    trending = trends.top_charts(year, hl= \"en-US\", geo= \"GLOBAL\")\n",
        "    df[year]= trending.title\n",
        "    \n",
        "print(df.head(5))"
      ]
    },
    {
      "cell_type": "markdown",
      "source": [
        "***Daily trends***\n",
        "---\n",
        "*Daily Search Trends highlights searchers that jumped significantly in traffic among all searches over the past 24 hours and update hourly.*\n",
        "---\n",
        "*These trends highlight specific queries that were searched, and an absolute number of searches made*\n"
      ],
      "metadata": {
        "id": "pop-SR4lJV3y"
      }
    },
    {
      "cell_type": "code",
      "execution_count": 253,
      "metadata": {
        "id": "ojPlZFKd30pW",
        "outputId": "fbe9f236-9e58-4bf8-a8ba-cc1911c1efb6",
        "colab": {
          "base_uri": "https://localhost:8080/"
        }
      },
      "outputs": [
        {
          "output_type": "execute_result",
          "data": {
            "text/plain": [
              "0    /trends/explore?q=MacBook+Air&date=now+7-d&geo=DK\n",
              "1         /trends/explore?q=Shaman&date=now+7-d&geo=DK\n",
              "2      /trends/explore?q=Cornelius&date=now+7-d&geo=DK\n",
              "3        /trends/explore?q=Olaplex&date=now+7-d&geo=DK\n",
              "4         /trends/explore?q=Weaver&date=now+7-d&geo=DK\n",
              "Name: exploreLink, dtype: object"
            ]
          },
          "metadata": {},
          "execution_count": 253
        }
      ],
      "source": [
        "# Get today´s trending topics\n",
        "trendingtoday = trends.today_searches(pn='DK')\n",
        "trendingtoday.head()\n",
        "  "
      ]
    },
    {
      "cell_type": "markdown",
      "source": [
        "**Realtime Trends Searches in a Specific Country**\n",
        "---\n",
        "*It highlight stories that are trending across Google surfaces within the last 24 hours and are updated in real-time*\n",
        "\n",
        "The \"pn\" argument specifies the geographical location, the US in our example."
      ],
      "metadata": {
        "id": "DZQ4qK4yScqp"
      }
    },
    {
      "cell_type": "code",
      "execution_count": 268,
      "metadata": {
        "id": "5BKOe2bn30pX",
        "outputId": "ce4ae1d7-6794-4b28-9b77-9fc16e7e4bcf",
        "colab": {
          "base_uri": "https://localhost:8080/",
          "height": 363
        }
      },
      "outputs": [
        {
          "output_type": "execute_result",
          "data": {
            "text/plain": [
              "                    0\n",
              "0         MacBook Air\n",
              "1              Shaman\n",
              "2           Cornelius\n",
              "3             Olaplex\n",
              "4              Weaver\n",
              "5               USB-C\n",
              "6      Nations League\n",
              "7  Denmark vs Austria\n",
              "8       Boris Johnson\n",
              "9               Apple"
            ],
            "text/html": [
              "\n",
              "  <div id=\"df-fa0d004a-76cf-4247-9833-2cb44aa90466\">\n",
              "    <div class=\"colab-df-container\">\n",
              "      <div>\n",
              "<style scoped>\n",
              "    .dataframe tbody tr th:only-of-type {\n",
              "        vertical-align: middle;\n",
              "    }\n",
              "\n",
              "    .dataframe tbody tr th {\n",
              "        vertical-align: top;\n",
              "    }\n",
              "\n",
              "    .dataframe thead th {\n",
              "        text-align: right;\n",
              "    }\n",
              "</style>\n",
              "<table border=\"1\" class=\"dataframe\">\n",
              "  <thead>\n",
              "    <tr style=\"text-align: right;\">\n",
              "      <th></th>\n",
              "      <th>0</th>\n",
              "    </tr>\n",
              "  </thead>\n",
              "  <tbody>\n",
              "    <tr>\n",
              "      <th>0</th>\n",
              "      <td>MacBook Air</td>\n",
              "    </tr>\n",
              "    <tr>\n",
              "      <th>1</th>\n",
              "      <td>Shaman</td>\n",
              "    </tr>\n",
              "    <tr>\n",
              "      <th>2</th>\n",
              "      <td>Cornelius</td>\n",
              "    </tr>\n",
              "    <tr>\n",
              "      <th>3</th>\n",
              "      <td>Olaplex</td>\n",
              "    </tr>\n",
              "    <tr>\n",
              "      <th>4</th>\n",
              "      <td>Weaver</td>\n",
              "    </tr>\n",
              "    <tr>\n",
              "      <th>5</th>\n",
              "      <td>USB-C</td>\n",
              "    </tr>\n",
              "    <tr>\n",
              "      <th>6</th>\n",
              "      <td>Nations League</td>\n",
              "    </tr>\n",
              "    <tr>\n",
              "      <th>7</th>\n",
              "      <td>Denmark vs Austria</td>\n",
              "    </tr>\n",
              "    <tr>\n",
              "      <th>8</th>\n",
              "      <td>Boris Johnson</td>\n",
              "    </tr>\n",
              "    <tr>\n",
              "      <th>9</th>\n",
              "      <td>Apple</td>\n",
              "    </tr>\n",
              "  </tbody>\n",
              "</table>\n",
              "</div>\n",
              "      <button class=\"colab-df-convert\" onclick=\"convertToInteractive('df-fa0d004a-76cf-4247-9833-2cb44aa90466')\"\n",
              "              title=\"Convert this dataframe to an interactive table.\"\n",
              "              style=\"display:none;\">\n",
              "        \n",
              "  <svg xmlns=\"http://www.w3.org/2000/svg\" height=\"24px\"viewBox=\"0 0 24 24\"\n",
              "       width=\"24px\">\n",
              "    <path d=\"M0 0h24v24H0V0z\" fill=\"none\"/>\n",
              "    <path d=\"M18.56 5.44l.94 2.06.94-2.06 2.06-.94-2.06-.94-.94-2.06-.94 2.06-2.06.94zm-11 1L8.5 8.5l.94-2.06 2.06-.94-2.06-.94L8.5 2.5l-.94 2.06-2.06.94zm10 10l.94 2.06.94-2.06 2.06-.94-2.06-.94-.94-2.06-.94 2.06-2.06.94z\"/><path d=\"M17.41 7.96l-1.37-1.37c-.4-.4-.92-.59-1.43-.59-.52 0-1.04.2-1.43.59L10.3 9.45l-7.72 7.72c-.78.78-.78 2.05 0 2.83L4 21.41c.39.39.9.59 1.41.59.51 0 1.02-.2 1.41-.59l7.78-7.78 2.81-2.81c.8-.78.8-2.07 0-2.86zM5.41 20L4 18.59l7.72-7.72 1.47 1.35L5.41 20z\"/>\n",
              "  </svg>\n",
              "      </button>\n",
              "      \n",
              "  <style>\n",
              "    .colab-df-container {\n",
              "      display:flex;\n",
              "      flex-wrap:wrap;\n",
              "      gap: 12px;\n",
              "    }\n",
              "\n",
              "    .colab-df-convert {\n",
              "      background-color: #E8F0FE;\n",
              "      border: none;\n",
              "      border-radius: 50%;\n",
              "      cursor: pointer;\n",
              "      display: none;\n",
              "      fill: #1967D2;\n",
              "      height: 32px;\n",
              "      padding: 0 0 0 0;\n",
              "      width: 32px;\n",
              "    }\n",
              "\n",
              "    .colab-df-convert:hover {\n",
              "      background-color: #E2EBFA;\n",
              "      box-shadow: 0px 1px 2px rgba(60, 64, 67, 0.3), 0px 1px 3px 1px rgba(60, 64, 67, 0.15);\n",
              "      fill: #174EA6;\n",
              "    }\n",
              "\n",
              "    [theme=dark] .colab-df-convert {\n",
              "      background-color: #3B4455;\n",
              "      fill: #D2E3FC;\n",
              "    }\n",
              "\n",
              "    [theme=dark] .colab-df-convert:hover {\n",
              "      background-color: #434B5C;\n",
              "      box-shadow: 0px 1px 3px 1px rgba(0, 0, 0, 0.15);\n",
              "      filter: drop-shadow(0px 1px 2px rgba(0, 0, 0, 0.3));\n",
              "      fill: #FFFFFF;\n",
              "    }\n",
              "  </style>\n",
              "\n",
              "      <script>\n",
              "        const buttonEl =\n",
              "          document.querySelector('#df-fa0d004a-76cf-4247-9833-2cb44aa90466 button.colab-df-convert');\n",
              "        buttonEl.style.display =\n",
              "          google.colab.kernel.accessAllowed ? 'block' : 'none';\n",
              "\n",
              "        async function convertToInteractive(key) {\n",
              "          const element = document.querySelector('#df-fa0d004a-76cf-4247-9833-2cb44aa90466');\n",
              "          const dataTable =\n",
              "            await google.colab.kernel.invokeFunction('convertToInteractive',\n",
              "                                                     [key], {});\n",
              "          if (!dataTable) return;\n",
              "\n",
              "          const docLinkHtml = 'Like what you see? Visit the ' +\n",
              "            '<a target=\"_blank\" href=https://colab.research.google.com/notebooks/data_table.ipynb>data table notebook</a>'\n",
              "            + ' to learn more about interactive tables.';\n",
              "          element.innerHTML = '';\n",
              "          dataTable['output_type'] = 'display_data';\n",
              "          await google.colab.output.renderOutput(dataTable, element);\n",
              "          const docLink = document.createElement('div');\n",
              "          docLink.innerHTML = docLinkHtml;\n",
              "          element.appendChild(docLink);\n",
              "        }\n",
              "      </script>\n",
              "    </div>\n",
              "  </div>\n",
              "  "
            ]
          },
          "metadata": {},
          "execution_count": 268
        }
      ],
      "source": [
        "# Get realtime Google Trends data\n",
        "trends_realtime= trends.trending_searches(pn='denmark')\n",
        "trends_realtime.head(10)\n",
        "\n",
        "#df = trends.realtime_trending_searches(pn='denmark')\n",
        "#df.head(10)"
      ]
    },
    {
      "cell_type": "code",
      "execution_count": null,
      "metadata": {
        "id": "dOhCKhi030pY"
      },
      "outputs": [],
      "source": [
        ""
      ]
    },
    {
      "cell_type": "code",
      "execution_count": null,
      "metadata": {
        "id": "iaq9lxJB30pY"
      },
      "outputs": [],
      "source": [
        ""
      ]
    },
    {
      "cell_type": "code",
      "execution_count": null,
      "metadata": {
        "id": "500ZFv9n30pZ"
      },
      "outputs": [],
      "source": [
        ""
      ]
    },
    {
      "cell_type": "code",
      "execution_count": null,
      "metadata": {
        "id": "W6WmctZk30pZ"
      },
      "outputs": [],
      "source": [
        ""
      ]
    }
  ],
  "metadata": {
    "kernelspec": {
      "display_name": "Python 3",
      "language": "python",
      "name": "python3"
    },
    "language_info": {
      "codemirror_mode": {
        "name": "ipython",
        "version": 3
      },
      "file_extension": ".py",
      "mimetype": "text/x-python",
      "name": "python",
      "nbconvert_exporter": "python",
      "pygments_lexer": "ipython3",
      "version": "3.8.3"
    },
    "colab": {
      "name": "GoogleTrends.ipynb",
      "provenance": []
    }
  },
  "nbformat": 4,
  "nbformat_minor": 0
}